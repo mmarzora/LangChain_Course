{
 "cells": [
  {
   "cell_type": "markdown",
   "metadata": {},
   "source": [
    "\n",
    "# Custom Support Chatbot\n",
    "\n",
    "The objective of this project is to build a custom chatbot that answers questions based on documents.\n",
    "\n",
    "\n",
    "![Alt text](image-1.png)"
   ]
  },
  {
   "cell_type": "code",
   "execution_count": 1,
   "metadata": {},
   "outputs": [
    {
     "name": "stderr",
     "output_type": "stream",
     "text": [
      "/Users/maitemarzoratti/anaconda3/envs/langchain/lib/python3.11/site-packages/deeplake/util/check_latest_version.py:32: UserWarning: A newer version of deeplake (3.8.0) is available. It's recommended that you update to the latest version using `pip install -U deeplake`.\n",
      "  warnings.warn(\n"
     ]
    }
   ],
   "source": [
    "# import libraries\n",
    "\n",
    "from langchain.embeddings.openai import OpenAIEmbeddings\n",
    "from langchain.vectorstores import DeepLake\n",
    "from langchain.text_splitter import CharacterTextSplitter\n",
    "from langchain import OpenAI\n",
    "from langchain.document_loaders import SeleniumURLLoader\n",
    "from langchain import PromptTemplate"
   ]
  },
  {
   "cell_type": "markdown",
   "metadata": {},
   "source": [
    "### Retrieve information from urls"
   ]
  },
  {
   "cell_type": "code",
   "execution_count": 2,
   "metadata": {},
   "outputs": [],
   "source": [
    "# we'll use information from the following articles\n",
    "urls = ['https://beebom.com/what-is-nft-explained/',\n",
    "        'https://beebom.com/how-delete-spotify-account/',\n",
    "        'https://beebom.com/how-download-gif-twitter/',\n",
    "        'https://beebom.com/how-use-chatgpt-linux-terminal/',\n",
    "        'https://beebom.com/how-delete-spotify-account/',\n",
    "        'https://beebom.com/how-save-instagram-story-with-music/',\n",
    "        'https://beebom.com/how-install-pip-windows/',\n",
    "        'https://beebom.com/how-check-disk-usage-linux/']"
   ]
  },
  {
   "cell_type": "code",
   "execution_count": 3,
   "metadata": {},
   "outputs": [
    {
     "name": "stderr",
     "output_type": "stream",
     "text": [
      "Created a chunk of size 1226, which is longer than the specified 1000\n"
     ]
    }
   ],
   "source": [
    "# use the selenium scraper to load the documents\n",
    "loader = SeleniumURLLoader(urls=urls)\n",
    "docs_not_splitted = loader.load()\n",
    "\n",
    "# we split the documents into smaller chunks\n",
    "text_splitter = CharacterTextSplitter(chunk_size=1000, chunk_overlap=0)\n",
    "docs = text_splitter.split_documents(docs_not_splitted)"
   ]
  },
  {
   "cell_type": "code",
   "execution_count": 4,
   "metadata": {},
   "outputs": [
    {
     "name": "stdout",
     "output_type": "stream",
     "text": [
      "Your Deep Lake dataset has been successfully created!\n"
     ]
    },
    {
     "name": "stderr",
     "output_type": "stream",
     "text": [
      "creating embeddings: 100%|██████████| 12/12 [00:45<00:00,  3.81s/it]\n",
      "100%|██████████| 127/127 [00:07<00:00, 17.31it/s]\n",
      "-"
     ]
    },
    {
     "name": "stdout",
     "output_type": "stream",
     "text": [
      "Dataset(path='hub://maitemarzoratti/langchain_course_customer_support', tensors=['text', 'metadata', 'embedding', 'id'])\n",
      "\n",
      "  tensor      htype       shape      dtype  compression\n",
      "  -------    -------     -------    -------  ------- \n",
      "   text       text      (127, 1)      str     None   \n",
      " metadata     json      (127, 1)      str     None   \n",
      " embedding  embedding  (127, 1536)  float32   None   \n",
      "    id        text      (127, 1)      str     None   \n"
     ]
    },
    {
     "name": "stderr",
     "output_type": "stream",
     "text": [
      " \r"
     ]
    },
    {
     "data": {
      "text/plain": [
       "['25f38dbc-6ab0-11ee-8c31-6e005755cfe9',\n",
       " '25f38ea2-6ab0-11ee-8c31-6e005755cfe9',\n",
       " '25f38ed4-6ab0-11ee-8c31-6e005755cfe9',\n",
       " '25f38efc-6ab0-11ee-8c31-6e005755cfe9',\n",
       " '25f38f24-6ab0-11ee-8c31-6e005755cfe9',\n",
       " '25f38f4c-6ab0-11ee-8c31-6e005755cfe9',\n",
       " '25f38f74-6ab0-11ee-8c31-6e005755cfe9',\n",
       " '25f3900a-6ab0-11ee-8c31-6e005755cfe9',\n",
       " '25f3903c-6ab0-11ee-8c31-6e005755cfe9',\n",
       " '25f39064-6ab0-11ee-8c31-6e005755cfe9',\n",
       " '25f3908c-6ab0-11ee-8c31-6e005755cfe9',\n",
       " '25f390aa-6ab0-11ee-8c31-6e005755cfe9',\n",
       " '25f390c8-6ab0-11ee-8c31-6e005755cfe9',\n",
       " '25f390e6-6ab0-11ee-8c31-6e005755cfe9',\n",
       " '25f3910e-6ab0-11ee-8c31-6e005755cfe9',\n",
       " '25f3912c-6ab0-11ee-8c31-6e005755cfe9',\n",
       " '25f3914a-6ab0-11ee-8c31-6e005755cfe9',\n",
       " '25f39168-6ab0-11ee-8c31-6e005755cfe9',\n",
       " '25f39190-6ab0-11ee-8c31-6e005755cfe9',\n",
       " '25f391ae-6ab0-11ee-8c31-6e005755cfe9',\n",
       " '25f391cc-6ab0-11ee-8c31-6e005755cfe9',\n",
       " '25f391ea-6ab0-11ee-8c31-6e005755cfe9',\n",
       " '25f3921c-6ab0-11ee-8c31-6e005755cfe9',\n",
       " '25f3923a-6ab0-11ee-8c31-6e005755cfe9',\n",
       " '25f39258-6ab0-11ee-8c31-6e005755cfe9',\n",
       " '25f39276-6ab0-11ee-8c31-6e005755cfe9',\n",
       " '25f39294-6ab0-11ee-8c31-6e005755cfe9',\n",
       " '25f392bc-6ab0-11ee-8c31-6e005755cfe9',\n",
       " '25f392da-6ab0-11ee-8c31-6e005755cfe9',\n",
       " '25f392f8-6ab0-11ee-8c31-6e005755cfe9',\n",
       " '25f39316-6ab0-11ee-8c31-6e005755cfe9',\n",
       " '25f3933e-6ab0-11ee-8c31-6e005755cfe9',\n",
       " '25f3935c-6ab0-11ee-8c31-6e005755cfe9',\n",
       " '25f3937a-6ab0-11ee-8c31-6e005755cfe9',\n",
       " '25f39398-6ab0-11ee-8c31-6e005755cfe9',\n",
       " '25f393b6-6ab0-11ee-8c31-6e005755cfe9',\n",
       " '25f393d4-6ab0-11ee-8c31-6e005755cfe9',\n",
       " '25f393f2-6ab0-11ee-8c31-6e005755cfe9',\n",
       " '25f39410-6ab0-11ee-8c31-6e005755cfe9',\n",
       " '25f3942e-6ab0-11ee-8c31-6e005755cfe9',\n",
       " '25f3944c-6ab0-11ee-8c31-6e005755cfe9',\n",
       " '25f3946a-6ab0-11ee-8c31-6e005755cfe9',\n",
       " '25f39488-6ab0-11ee-8c31-6e005755cfe9',\n",
       " '25f394b0-6ab0-11ee-8c31-6e005755cfe9',\n",
       " '25f394ce-6ab0-11ee-8c31-6e005755cfe9',\n",
       " '25f394ec-6ab0-11ee-8c31-6e005755cfe9',\n",
       " '25f3950a-6ab0-11ee-8c31-6e005755cfe9',\n",
       " '25f39528-6ab0-11ee-8c31-6e005755cfe9',\n",
       " '25f39546-6ab0-11ee-8c31-6e005755cfe9',\n",
       " '25f39564-6ab0-11ee-8c31-6e005755cfe9',\n",
       " '25f39582-6ab0-11ee-8c31-6e005755cfe9',\n",
       " '25f395a0-6ab0-11ee-8c31-6e005755cfe9',\n",
       " '25f395be-6ab0-11ee-8c31-6e005755cfe9',\n",
       " '25f395dc-6ab0-11ee-8c31-6e005755cfe9',\n",
       " '25f39604-6ab0-11ee-8c31-6e005755cfe9',\n",
       " '25f39622-6ab0-11ee-8c31-6e005755cfe9',\n",
       " '25f39640-6ab0-11ee-8c31-6e005755cfe9',\n",
       " '25f3965e-6ab0-11ee-8c31-6e005755cfe9',\n",
       " '25f3967c-6ab0-11ee-8c31-6e005755cfe9',\n",
       " '25f3969a-6ab0-11ee-8c31-6e005755cfe9',\n",
       " '25f396b8-6ab0-11ee-8c31-6e005755cfe9',\n",
       " '25f396d6-6ab0-11ee-8c31-6e005755cfe9',\n",
       " '25f396f4-6ab0-11ee-8c31-6e005755cfe9',\n",
       " '25f39712-6ab0-11ee-8c31-6e005755cfe9',\n",
       " '25f39730-6ab0-11ee-8c31-6e005755cfe9',\n",
       " '25f39758-6ab0-11ee-8c31-6e005755cfe9',\n",
       " '25f39776-6ab0-11ee-8c31-6e005755cfe9',\n",
       " '25f39794-6ab0-11ee-8c31-6e005755cfe9',\n",
       " '25f397b2-6ab0-11ee-8c31-6e005755cfe9',\n",
       " '25f397d0-6ab0-11ee-8c31-6e005755cfe9',\n",
       " '25f397ee-6ab0-11ee-8c31-6e005755cfe9',\n",
       " '25f3980c-6ab0-11ee-8c31-6e005755cfe9',\n",
       " '25f3982a-6ab0-11ee-8c31-6e005755cfe9',\n",
       " '25f39848-6ab0-11ee-8c31-6e005755cfe9',\n",
       " '25f39866-6ab0-11ee-8c31-6e005755cfe9',\n",
       " '25f39884-6ab0-11ee-8c31-6e005755cfe9',\n",
       " '25f398a2-6ab0-11ee-8c31-6e005755cfe9',\n",
       " '25f398ca-6ab0-11ee-8c31-6e005755cfe9',\n",
       " '25f398e8-6ab0-11ee-8c31-6e005755cfe9',\n",
       " '25f39906-6ab0-11ee-8c31-6e005755cfe9',\n",
       " '25f39924-6ab0-11ee-8c31-6e005755cfe9',\n",
       " '25f39942-6ab0-11ee-8c31-6e005755cfe9',\n",
       " '25f39960-6ab0-11ee-8c31-6e005755cfe9',\n",
       " '25f3997e-6ab0-11ee-8c31-6e005755cfe9',\n",
       " '25f3999c-6ab0-11ee-8c31-6e005755cfe9',\n",
       " '25f399ba-6ab0-11ee-8c31-6e005755cfe9',\n",
       " '25f399d8-6ab0-11ee-8c31-6e005755cfe9',\n",
       " '25f399f6-6ab0-11ee-8c31-6e005755cfe9',\n",
       " '25f39a14-6ab0-11ee-8c31-6e005755cfe9',\n",
       " '25f39a32-6ab0-11ee-8c31-6e005755cfe9',\n",
       " '25f39a50-6ab0-11ee-8c31-6e005755cfe9',\n",
       " '25f39a6e-6ab0-11ee-8c31-6e005755cfe9',\n",
       " '25f39a96-6ab0-11ee-8c31-6e005755cfe9',\n",
       " '25f39ab4-6ab0-11ee-8c31-6e005755cfe9',\n",
       " '25f39ad2-6ab0-11ee-8c31-6e005755cfe9',\n",
       " '25f39af0-6ab0-11ee-8c31-6e005755cfe9',\n",
       " '25f39b0e-6ab0-11ee-8c31-6e005755cfe9',\n",
       " '25f39b2c-6ab0-11ee-8c31-6e005755cfe9',\n",
       " '25f39b4a-6ab0-11ee-8c31-6e005755cfe9',\n",
       " '25f39b68-6ab0-11ee-8c31-6e005755cfe9',\n",
       " '25f39b86-6ab0-11ee-8c31-6e005755cfe9',\n",
       " '25f39ba4-6ab0-11ee-8c31-6e005755cfe9',\n",
       " '25f39bc2-6ab0-11ee-8c31-6e005755cfe9',\n",
       " '25f39be0-6ab0-11ee-8c31-6e005755cfe9',\n",
       " '25f39bfe-6ab0-11ee-8c31-6e005755cfe9',\n",
       " '25f39c1c-6ab0-11ee-8c31-6e005755cfe9',\n",
       " '25f39c3a-6ab0-11ee-8c31-6e005755cfe9',\n",
       " '25f39c58-6ab0-11ee-8c31-6e005755cfe9',\n",
       " '25f39c76-6ab0-11ee-8c31-6e005755cfe9',\n",
       " '25f39e38-6ab0-11ee-8c31-6e005755cfe9',\n",
       " '25f39e6a-6ab0-11ee-8c31-6e005755cfe9',\n",
       " '25f39e88-6ab0-11ee-8c31-6e005755cfe9',\n",
       " '25f39ea6-6ab0-11ee-8c31-6e005755cfe9',\n",
       " '25f39ec4-6ab0-11ee-8c31-6e005755cfe9',\n",
       " '25f39ee2-6ab0-11ee-8c31-6e005755cfe9',\n",
       " '25f39f00-6ab0-11ee-8c31-6e005755cfe9',\n",
       " '25f39f1e-6ab0-11ee-8c31-6e005755cfe9',\n",
       " '25f39f3c-6ab0-11ee-8c31-6e005755cfe9',\n",
       " '25f39f5a-6ab0-11ee-8c31-6e005755cfe9',\n",
       " '25f39f78-6ab0-11ee-8c31-6e005755cfe9',\n",
       " '25f39f96-6ab0-11ee-8c31-6e005755cfe9',\n",
       " '25f39fb4-6ab0-11ee-8c31-6e005755cfe9',\n",
       " '25f39fd2-6ab0-11ee-8c31-6e005755cfe9',\n",
       " '25f39ff0-6ab0-11ee-8c31-6e005755cfe9',\n",
       " '25f3a00e-6ab0-11ee-8c31-6e005755cfe9',\n",
       " '25f3a02c-6ab0-11ee-8c31-6e005755cfe9',\n",
       " '25f3a04a-6ab0-11ee-8c31-6e005755cfe9']"
      ]
     },
     "execution_count": 4,
     "metadata": {},
     "output_type": "execute_result"
    }
   ],
   "source": [
    "# Compute embeddings and store in deeplake vector store\n",
    "\n",
    "embeddings = OpenAIEmbeddings(model=\"text-embedding-ada-002\")\n",
    "\n",
    "# create Deep Lake dataset\n",
    "# TODO: use your organization id here. (by default, org id is your username)\n",
    "my_activeloop_org_id = \"maitemarzoratti\"\n",
    "my_activeloop_dataset_name = \"langchain_course_customer_support\"\n",
    "dataset_path = f\"hub://{my_activeloop_org_id}/{my_activeloop_dataset_name}\"\n",
    "db = DeepLake(dataset_path=dataset_path, embedding_function=embeddings)\n",
    "\n",
    "# add documents to our Deep Lake dataset\n",
    "db.add_documents(docs)"
   ]
  },
  {
   "cell_type": "code",
   "execution_count": 5,
   "metadata": {},
   "outputs": [
    {
     "name": "stdout",
     "output_type": "stream",
     "text": [
      "Home  Tech  How to Check Disk Usage in Linux (4 Methods)\n",
      "\n",
      "How to Check Disk Usage in Linux (4 Methods)\n",
      "\n",
      "Beebom Staff\n",
      "\n",
      "Last Updated: June 19, 2023 5:14 pm\n",
      "\n",
      "There may be times when you need to download some important files or transfer some photos to your Linux system, but face a problem of insufficient disk space. You head over to your file manager to delete the large files which you no longer require, but you have no clue which of them are occupying most of your disk space. In this article, we will show some easy methods to check disk usage in Linux from both the terminal and the GUI application.\n",
      "\n",
      "Monitor Disk Usage in Linux (2023)\n",
      "\n",
      "Table of Contents\n",
      "\n",
      "Check Disk Space Using the df Command\n",
      "\t\t\n",
      "Display Disk Usage in Human Readable FormatDisplay Disk Occupancy of a Particular Type\n",
      "\n",
      "Check Disk Usage using the du Command\n",
      "\t\t\n",
      "Display Disk Usage in Human Readable FormatDisplay Disk Usage for a Particular DirectoryCompare Disk Usage of Two Directories\n"
     ]
    }
   ],
   "source": [
    "# let's see the top relevant documents to a specific query\n",
    "query = \"how to check disk usage in linux?\"\n",
    "docs = db.similarity_search(query)\n",
    "print(docs[0].page_content)"
   ]
  },
  {
   "cell_type": "markdown",
   "metadata": {},
   "source": [
    "### Build Chatbot"
   ]
  },
  {
   "cell_type": "code",
   "execution_count": 6,
   "metadata": {},
   "outputs": [],
   "source": [
    "# let's write a prompt for a customer support chatbot that\n",
    "# answer questions using information extracted from our db\n",
    "template = \"\"\"You are an exceptional customer support chatbot that gently answer questions.\n",
    "\n",
    "You know the following context information.\n",
    "\n",
    "{chunks_formatted}\n",
    "\n",
    "Answer to the following question from a customer. Use only information from the previous context information. Do not invent stuff.\n",
    "\n",
    "Question: {query}\n",
    "\n",
    "Answer:\"\"\"\n",
    "\n",
    "prompt = PromptTemplate(\n",
    "    input_variables=[\"chunks_formatted\", \"query\"],\n",
    "    template=template,\n",
    ")"
   ]
  },
  {
   "cell_type": "markdown",
   "metadata": {},
   "source": [
    "Run the pipeline with a user query, and generate the answer based on the retrieved documents."
   ]
  },
  {
   "cell_type": "code",
   "execution_count": 7,
   "metadata": {},
   "outputs": [
    {
     "name": "stdout",
     "output_type": "stream",
     "text": [
      " You can check disk usage in Linux using the df command or by using a GUI tool such as the GDU Disk Usage Analyzer or the Gnome Disks Tool. The df command is used to check the current disk usage and the available disk space in Linux. The syntax for the df command is: df <options> <file_system>. The options to use with the df command are: a, h, t, and x. To install the GDU Disk Usage Analyzer, use the command: sudo snap install gdu-disk-usage-analyzer. To install the Gnome Disks Tool, use the command: sudo apt-get -y install gnome-disk-utility.\n"
     ]
    }
   ],
   "source": [
    "# the full pipeline\n",
    "\n",
    "# user question\n",
    "query = \"How to check disk usage in linux?\"\n",
    "\n",
    "# retrieve relevant chunks\n",
    "docs = db.similarity_search(query)\n",
    "retrieved_chunks = [doc.page_content for doc in docs]\n",
    "\n",
    "# format the prompt\n",
    "chunks_formatted = \"\\n\\n\".join(retrieved_chunks)\n",
    "prompt_formatted = prompt.format(chunks_formatted=chunks_formatted, query=query)\n",
    "\n",
    "# generate answer\n",
    "llm = OpenAI(model=\"text-davinci-003\", temperature=0)\n",
    "answer = llm(prompt_formatted)\n",
    "print(answer)"
   ]
  }
 ],
 "metadata": {
  "kernelspec": {
   "display_name": "langchain",
   "language": "python",
   "name": "python3"
  },
  "language_info": {
   "codemirror_mode": {
    "name": "ipython",
    "version": 3
   },
   "file_extension": ".py",
   "mimetype": "text/x-python",
   "name": "python",
   "nbconvert_exporter": "python",
   "pygments_lexer": "ipython3",
   "version": "3.11.4"
  },
  "orig_nbformat": 4
 },
 "nbformat": 4,
 "nbformat_minor": 2
}
